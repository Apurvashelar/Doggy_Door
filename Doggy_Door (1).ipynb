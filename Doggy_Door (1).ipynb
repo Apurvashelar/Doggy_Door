{
  "nbformat": 4,
  "nbformat_minor": 0,
  "metadata": {
    "colab": {
      "name": "Doggy_Door.ipynb",
      "provenance": []
    },
    "kernelspec": {
      "name": "python3",
      "display_name": "Python 3"
    },
    "language_info": {
      "name": "python"
    }
  },
  "cells": [
    {
      "cell_type": "code",
      "metadata": {
        "id": "gtWVNNJwUTzf"
      },
      "source": [
        "from tensorflow.keras.applications import VGG16\n",
        "  \n",
        "# load the VGG16 network *pre-trained* on the ImageNet dataset\n",
        "model = VGG16(weights=\"imagenet\")"
      ],
      "execution_count": null,
      "outputs": []
    },
    {
      "cell_type": "code",
      "metadata": {
        "id": "d-0AxCXiUc3H"
      },
      "source": [
        "model.summary()"
      ],
      "execution_count": null,
      "outputs": []
    },
    {
      "cell_type": "code",
      "metadata": {
        "id": "WwsJT5tRUgcN"
      },
      "source": [
        "# Load an image and display it\n",
        "import matplotlib.pyplot as plt\n",
        "import matplotlib.image as mpimg\n",
        "\n",
        "def show_image(image_path):\n",
        "    image = mpimg.imread(image_path)\n",
        "    #print(image.shape)\n",
        "    plt.imshow(image)"
      ],
      "execution_count": null,
      "outputs": []
    },
    {
      "cell_type": "code",
      "metadata": {
        "id": "9x4iBP-AUnH0"
      },
      "source": [
        "show_image(\"happy_dog.jpg\")"
      ],
      "execution_count": null,
      "outputs": []
    },
    {
      "cell_type": "code",
      "metadata": {
        "id": "Le07h05OU4Px"
      },
      "source": [
        "# Preprocessing the image \n",
        "from tensorflow.keras.preprocessing import image as image_utils\n",
        "from tensorflow.keras.applications.vgg16 import preprocess_input\n",
        "\n",
        "def load_and_process_image(image_path):\n",
        "\n",
        "    # Print image's original shape, for reference\n",
        "    #print('Original image shape: ', mpimg.imread(image_path).shape)\n",
        "    \n",
        "    # Load in the image with a target size of 224, 224\n",
        "    image = image_utils.load_img(image_path, target_size=(224, 224))\n",
        "\n",
        "    # Convert the image from a PIL format to a numpy array\n",
        "    image = image_utils.img_to_array(image)\n",
        "\n",
        "    # Add a dimension for number of images, in our case 1\n",
        "    image = image.reshape(1,224,224,3)\n",
        "\n",
        "    # Preprocess image to align with original ImageNet dataset\n",
        "    image = preprocess_input(image)\n",
        "\n",
        "    # Print image's shape after processing\n",
        "    #print('Processed image shape: ', image.shape)\n",
        "\n",
        "    return image"
      ],
      "execution_count": null,
      "outputs": []
    },
    {
      "cell_type": "code",
      "metadata": {
        "id": "YCxcSph7VPqR"
      },
      "source": [
        "from tensorflow.keras.applications.vgg16 import decode_predictions\n",
        "\n",
        "def readable_prediction(image_path):\n",
        "\n",
        "    # Show image\n",
        "    show_image(image_path)\n",
        "\n",
        "    # Load and pre-process image\n",
        "    image = load_and_process_image(image_path)\n",
        "\n",
        "    # Make predictions\n",
        "    predictions = model.predict(image)\n",
        "    \n",
        "    # Print predictions in readable form\n",
        "    print('Predicted:', decode_predictions(predictions, top=3))"
      ],
      "execution_count": null,
      "outputs": []
    },
    {
      "cell_type": "code",
      "metadata": {
        "id": "0eSQJIL-VfBW"
      },
      "source": [
        "readable_prediction(\"happy_dog.jpg\")"
      ],
      "execution_count": null,
      "outputs": []
    },
    {
      "cell_type": "code",
      "metadata": {
        "id": "bOtMZ236VjCe"
      },
      "source": [
        "readable_prediction(\"brown_bear.jpg\")"
      ],
      "execution_count": null,
      "outputs": []
    },
    {
      "cell_type": "code",
      "metadata": {
        "id": "Wf0b0enBV2gD"
      },
      "source": [
        "# Dogs are categories 151 through 268 and cats are categories 281 through 285. \n",
        "# The np.argmax function can find which element of the prediction array is the top category.\n",
        "\n",
        "import numpy as np\n",
        "\n",
        "def doggy_door(image_path):\n",
        "    show_image(image_path)\n",
        "    image = load_and_process_image(image_path)\n",
        "    preds = model.predict(image)\n",
        "    if 151 <= np.argmax(preds) <= 268:\n",
        "        print(\"Doggy come on in!\")\n",
        "    elif 281 <= np.argmax(preds) <= 285:\n",
        "        print(\"Kitty stay inside!\")\n",
        "    else:\n",
        "        print(\"You're not a dog! Stay outside!\")"
      ],
      "execution_count": null,
      "outputs": []
    },
    {
      "cell_type": "code",
      "metadata": {
        "id": "fxguiaOGWEvk"
      },
      "source": [
        "doggy_door(\"happy_dog.jpg\")"
      ],
      "execution_count": null,
      "outputs": []
    }
  ]
}